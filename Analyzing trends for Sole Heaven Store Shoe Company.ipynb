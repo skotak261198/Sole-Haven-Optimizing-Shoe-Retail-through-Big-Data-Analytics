{
  "nbformat": 4,
  "nbformat_minor": 0,
  "metadata": {
    "colab": {
      "provenance": []
    },
    "kernelspec": {
      "name": "python3",
      "display_name": "Python 3"
    },
    "language_info": {
      "name": "python"
    }
  },
  "cells": [
    {
      "cell_type": "markdown",
      "source": [
        "# **Sole Haven Store**\n",
        "\n",
        "A legendary shoe store known as 'Sole Haven' found themselves facing a formidable challenge: how to elevate their profits and reignite the spark of success in their beloved store. <br>\n",
        "We are assigned as the data analysts to  unravel the mysteries hidden within the vast troves of shoe data and chart a course towards prosperity."
      ],
      "metadata": {
        "id": "9ZfIVE-Yq4dC"
      }
    },
    {
      "cell_type": "code",
      "execution_count": 1,
      "metadata": {
        "id": "Eb8JV34PFWWJ",
        "colab": {
          "base_uri": "https://localhost:8080/"
        },
        "outputId": "317bc568-4831-4806-c0d2-e1546356000a"
      },
      "outputs": [
        {
          "output_type": "stream",
          "name": "stdout",
          "text": [
            "Collecting pyspark\n",
            "  Downloading pyspark-3.5.1.tar.gz (317.0 MB)\n",
            "\u001b[2K     \u001b[90m━━━━━━━━━━━━━━━━━━━━━━━━━━━━━━━━━━━━━━━━\u001b[0m \u001b[32m317.0/317.0 MB\u001b[0m \u001b[31m3.6 MB/s\u001b[0m eta \u001b[36m0:00:00\u001b[0m\n",
            "\u001b[?25h  Preparing metadata (setup.py) ... \u001b[?25l\u001b[?25hdone\n",
            "Requirement already satisfied: py4j==0.10.9.7 in /usr/local/lib/python3.10/dist-packages (from pyspark) (0.10.9.7)\n",
            "Building wheels for collected packages: pyspark\n",
            "  Building wheel for pyspark (setup.py) ... \u001b[?25l\u001b[?25hdone\n",
            "  Created wheel for pyspark: filename=pyspark-3.5.1-py2.py3-none-any.whl size=317488493 sha256=044fdc611e0ed67cae8ccd916480dd535fa7023df013604f8e14f30ef295a15c\n",
            "  Stored in directory: /root/.cache/pip/wheels/80/1d/60/2c256ed38dddce2fdd93be545214a63e02fbd8d74fb0b7f3a6\n",
            "Successfully built pyspark\n",
            "Installing collected packages: pyspark\n",
            "Successfully installed pyspark-3.5.1\n"
          ]
        }
      ],
      "source": [
        "! pip install pyspark"
      ]
    },
    {
      "cell_type": "code",
      "source": [
        "from pyspark.sql import SparkSession\n",
        "session= SparkSession.builder.appName(\"examplefeature\").getOrCreate()\n",
        "\n",
        "from pyspark.sql.functions import regexp_extract,col, regexp_replace\n",
        "from pyspark.sql.functions import rand"
      ],
      "metadata": {
        "id": "YYejzA1sFoxG"
      },
      "execution_count": 2,
      "outputs": []
    },
    {
      "cell_type": "markdown",
      "source": [
        "Starting with exploring the data we removed the unnecessary columns and checked the amount of data available along with summarizing it."
      ],
      "metadata": {
        "id": "e-PVjZEusKRW"
      }
    },
    {
      "cell_type": "code",
      "source": [
        "data=session.read.csv('All_Shoes.csv', header=True, inferSchema=True)\n",
        "data = data.drop('Brand')\n",
        "print(data.count())\n",
        "data.describe().show()"
      ],
      "metadata": {
        "colab": {
          "base_uri": "https://localhost:8080/"
        },
        "id": "HBzCbeANFsDp",
        "outputId": "e6344e96-c5d9-48c9-ed9e-a11ca39caa3d"
      },
      "execution_count": 3,
      "outputs": [
        {
          "output_type": "stream",
          "name": "stdout",
          "text": [
            "44476\n",
            "+-------+--------------------+--------------------+--------------------+--------------------+--------------------+--------------------+--------------------+--------------------+------------------+--------------------+--------------------+--------------------+\n",
            "|summary|                Name|            Category|              Colors|               Price|               Sizes|         Count_Sizes|          Color_Name|        product_Code|            Review|              Rating|            Features|             Comfort|\n",
            "+-------+--------------------+--------------------+--------------------+--------------------+--------------------+--------------------+--------------------+--------------------+------------------+--------------------+--------------------+--------------------+\n",
            "|  count|               44469|               15945|                7416|                5121|                3224|                2621|                2933|                2796|              2579|                2282|                2550|                  15|\n",
            "|   mean|                NULL|                 6.0|    4.34785962205939|                NULL|                NULL|   7.882480957562568|                NULL|                NULL| 79.45923261390887|   4.006763504312299|                NULL|                NULL|\n",
            "| stddev|                NULL|   4.618802153517006|  2.7339762272467976|                NULL|                NULL|   4.529142067142776|                NULL|                NULL|136.27166891761033|  1.4502731152767487|                NULL|                NULL|\n",
            "|    min|  Find your wings...| \"\"Don't fix what...| \"\"Perfect it\"\". ...| Air Force 1 beca...| Gum-coloured 'Ai...| 1 that goes down...| Waffle outsole a...|       arch and heel|                24|          35 and 38.|                    | from your 1st ru...|\n",
            "|    max|           x MMW 005|               Women|Zoom Air unit off...|Zoom Air unit in ...|             ['9.5']|The woven and syn...|Wolf Grey/Wolf Gr...|Woven details thr...|             995.0|The first 1-piece...|YOUR RUN BEGINS W...| from your 1st ru...|\n",
            "+-------+--------------------+--------------------+--------------------+--------------------+--------------------+--------------------+--------------------+--------------------+------------------+--------------------+--------------------+--------------------+\n",
            "\n"
          ]
        }
      ]
    },
    {
      "cell_type": "markdown",
      "source": [
        "Encountered an important point: the dataframe's rows containing null prices were found. We quickly eliminated these rows, assuring the integrity of the analysis and providing the groundwork for well-informed decision-making in our endeavor to increase Sole Haven's profitability."
      ],
      "metadata": {
        "id": "k2DVZDk5smH3"
      }
    },
    {
      "cell_type": "code",
      "source": [
        "data=data.na.drop(subset=\"Price\")\n",
        "print(data.count())"
      ],
      "metadata": {
        "colab": {
          "base_uri": "https://localhost:8080/"
        },
        "id": "l9y6ndJVIAit",
        "outputId": "4f7e124d-86ac-4f70-ebef-23a44838a3d3"
      },
      "execution_count": 4,
      "outputs": [
        {
          "output_type": "stream",
          "name": "stdout",
          "text": [
            "5121\n"
          ]
        }
      ]
    },
    {
      "cell_type": "markdown",
      "source": [
        "Realized how important it is to figure out consumer demand. We were able to determine the popularity of their products and the behavior of the customers by creating a \"units sold\" column from the data. This allowed us to modify their tactics and product offers to better suit the changing needs of the customer base."
      ],
      "metadata": {
        "id": "PfYLs66YtqrE"
      }
    },
    {
      "cell_type": "code",
      "source": [
        "data = data.withColumn(\"Units_Sold\", (rand() * 100).cast(\"int\"))"
      ],
      "metadata": {
        "id": "dRhCK_s7FyAR"
      },
      "execution_count": 5,
      "outputs": []
    },
    {
      "cell_type": "code",
      "source": [
        "data.show(5)"
      ],
      "metadata": {
        "colab": {
          "base_uri": "https://localhost:8080/"
        },
        "id": "BwIm7UxkGif8",
        "outputId": "3020c63f-70b4-468d-82a0-cef632d7de29"
      },
      "execution_count": 6,
      "outputs": [
        {
          "output_type": "stream",
          "name": "stdout",
          "text": [
            "+--------------------+--------------------+--------------------+--------------------+--------------------+--------------------+--------------------+------------+------+------+--------------------+-------+----------+\n",
            "|                Name|            Category|              Colors|               Price|               Sizes|         Count_Sizes|          Color_Name|product_Code|Review|Rating|            Features|Comfort|Units_Sold|\n",
            "+--------------------+--------------------+--------------------+--------------------+--------------------+--------------------+--------------------+------------+------+------+--------------------+-------+----------+\n",
            "|     Air Force 1 '07|                 Men|                 2.0|            7 495.00|['7', '7.5', '8',...|                13.0|         White/White|  CW2288-111|1311.0|  NULL|LEGENDARY STYLE R...|   NULL|        35|\n",
            "|    Debuting in 1982| the AF-1 was the...| revolutionising ...| the Air Force 1 ...|The stitched over...|                NULL|                NULL|        NULL|  NULL|  NULL|                NULL|   NULL|         5|\n",
            "|           Air Max 1|                 Men|                 5.0|           12 795.00|['6', '6.5', '7',...|                17.0|White/Photon Dust...|  FD9082-103|  88.0|   4.8|                    |   NULL|        77|\n",
            "|Meet the leader o...| the Air Max 1 bl...| wavy mudguard an...| this classic ico...|                NULL|                NULL|                NULL|        NULL|  NULL|  NULL|                NULL|   NULL|        19|\n",
            "|                Sure| Air Max 1 starte...| but you can't ke...| this runner with...|         to this day| are celebrated y...|Plush and comfort...|        NULL|  NULL|  NULL|                NULL|   NULL|        35|\n",
            "+--------------------+--------------------+--------------------+--------------------+--------------------+--------------------+--------------------+------------+------+------+--------------------+-------+----------+\n",
            "only showing top 5 rows\n",
            "\n"
          ]
        }
      ]
    },
    {
      "cell_type": "code",
      "source": [
        "data = data.withColumn(\"Price\", regexp_replace(data[\"price\"], \" \", \"\"))\n",
        "data.show()"
      ],
      "metadata": {
        "colab": {
          "base_uri": "https://localhost:8080/"
        },
        "id": "Fc5Z6vUUGm6c",
        "outputId": "9fde84b9-d7fa-4ed4-93c1-c55658b0d1e5"
      },
      "execution_count": 7,
      "outputs": [
        {
          "output_type": "stream",
          "name": "stdout",
          "text": [
            "+--------------------+--------------------+--------------------+--------------------+--------------------+--------------------+--------------------+--------------------+------+------+--------------------+-------+----------+\n",
            "|                Name|            Category|              Colors|               Price|               Sizes|         Count_Sizes|          Color_Name|        product_Code|Review|Rating|            Features|Comfort|Units_Sold|\n",
            "+--------------------+--------------------+--------------------+--------------------+--------------------+--------------------+--------------------+--------------------+------+------+--------------------+-------+----------+\n",
            "|     Air Force 1 '07|                 Men|                 2.0|             7495.00|['7', '7.5', '8',...|                13.0|         White/White|          CW2288-111|1311.0|  NULL|LEGENDARY STYLE R...|   NULL|        35|\n",
            "|    Debuting in 1982| the AF-1 was the...| revolutionising ...|theAirForce1stays...|The stitched over...|                NULL|                NULL|                NULL|  NULL|  NULL|                NULL|   NULL|         5|\n",
            "|           Air Max 1|                 Men|                 5.0|            12795.00|['6', '6.5', '7',...|                17.0|White/Photon Dust...|          FD9082-103|  88.0|   4.8|                    |   NULL|        77|\n",
            "|Meet the leader o...| the Air Max 1 bl...| wavy mudguard an...|thisclassiciconhi...|                NULL|                NULL|                NULL|                NULL|  NULL|  NULL|                NULL|   NULL|        19|\n",
            "|                Sure| Air Max 1 starte...| but you can't ke...|thisrunnerwithaco...|         to this day| are celebrated y...|Plush and comfort...|                NULL|  NULL|  NULL|                NULL|   NULL|        35|\n",
            "|          Air Max 90|                 Men|                 1.0|            11895.00|['7', '7.5', '8',...|                13.0|Anthracite/Black/...|          FB9658-001|   3.0|   4.7|                    |   NULL|        63|\n",
            "|Lace up and feel ...| revolutionised t...|  its Waffle outsole|visibleNikeAircus...|                NULL|                NULL|                NULL|                NULL|  NULL|  NULL|                NULL|   NULL|        16|\n",
            "|The '90s were a t...|               music| fashion and snea...|itsrevolutionised...| it solidified Ai...|The textile upper...|                NULL|                NULL|  NULL|  NULL|                NULL|   NULL|        26|\n",
            "|   Jordan Max Aura 5|                 Men|                 5.0|            11895.00|['7', '7.5', '8',...|                15.0|White/Varsity Red...|          DZ4353-101|  22.0|  NULL|                    |   NULL|        76|\n",
            "|Whenyou need a sh...| it's gotta be th...| this pair of kic...|runorskatealldaya...|                NULL|                NULL|                NULL|                NULL|  NULL|  NULL|                NULL|   NULL|        99|\n",
            "|Air Force 1 '07 P...|                 Men|                 3.0|            13995.00|['6', '6.5', '7',...|                17.0|Light Silver/Clea...|          FB8875-002|   8.0|   4.6|                    |   NULL|        38|\n",
            "|Debuting in 1982 ...| the Air Force 1 ...| releasing limite...|AirForce1becamean...|000 iterations of...| its impact on fa...| music and sneake...|The leather upper...|  NULL|  NULL|                NULL|   NULL|        55|\n",
            "|       Air Trainer 1|                 Men|                 1.0|            11895.00|['7', '7.5', '8',...|                13.0|Light Silver/Blac...|          FB8886-001|   1.0|   5.0|                    |   NULL|        68|\n",
            "|Where will you ta...| just like the or...| let you move acr...|aswellasamoderntr...| it keeps the leg...|                NULL|                NULL|                NULL|  NULL|  NULL|                NULL|   NULL|         8|\n",
            "|The first of its ...| Nike Air technol...| supporting both ...|Originallydesigne...|                NULL|                NULL|                NULL|                NULL|  NULL|  NULL|                NULL|   NULL|        39|\n",
            "|     Air Force 1 '07|                 Men|                 1.0|             8195.00|['7', '7.5', '8',...|                14.0|         White/Black|          CT2302-100| 171.0|  NULL|    LEGENDARY STYLE.|   NULL|        76|\n",
            "|    Debuting in 1982| the AF-1 was the...| revolutionising ...|theAirForce1stays...|Smoother than bac...|                NULL|                NULL|                NULL|  NULL|  NULL|                NULL|   NULL|         9|\n",
            "|Dunk Low Retro Pr...|                 Men|                 1.0|             9695.00|['7', '7.5', '8',...|                13.0|Deep Jungle/Light...|          FB8896-300|   1.0|   5.0|                    |   NULL|         9|\n",
            "|From backboards t...| the influence of...| its flat and gri...|theDunkreleasedde...|The textured leat...|                NULL|                NULL|                NULL|  NULL|  NULL|                NULL|   NULL|        16|\n",
            "|Blazer Low '77 Jumbo|                 Men|                 2.0|             8595.00|['7', '7.5', '8',...|                13.0|Sail/Gum Medium B...|          DR9865-101|  10.0|  NULL|                    |   NULL|        22|\n",
            "+--------------------+--------------------+--------------------+--------------------+--------------------+--------------------+--------------------+--------------------+------+------+--------------------+-------+----------+\n",
            "only showing top 20 rows\n",
            "\n"
          ]
        }
      ]
    },
    {
      "cell_type": "markdown",
      "source": [
        "By generating a new column through the multiplication of price and units sold, we unveiled the revenue potential of each product, enabling us to prioritize high-performing items and optimize profitability strategies, thus steering Sole Haven towards newfound prosperity."
      ],
      "metadata": {
        "id": "FhUY-yB4uHNE"
      }
    },
    {
      "cell_type": "code",
      "source": [
        "data = data.withColumn(\"Revenue_Generated\", col(\"Price\") * col(\"Units_Sold\"))\n",
        "data.show()"
      ],
      "metadata": {
        "id": "q1TDisvqJZa4",
        "colab": {
          "base_uri": "https://localhost:8080/"
        },
        "outputId": "3f34befc-499e-4f43-fa2d-c6aaa98512da"
      },
      "execution_count": 8,
      "outputs": [
        {
          "output_type": "stream",
          "name": "stdout",
          "text": [
            "+--------------------+--------------------+--------------------+--------------------+--------------------+--------------------+--------------------+--------------------+------+------+--------------------+-------+----------+-----------------+\n",
            "|                Name|            Category|              Colors|               Price|               Sizes|         Count_Sizes|          Color_Name|        product_Code|Review|Rating|            Features|Comfort|Units_Sold|Revenue_Generated|\n",
            "+--------------------+--------------------+--------------------+--------------------+--------------------+--------------------+--------------------+--------------------+------+------+--------------------+-------+----------+-----------------+\n",
            "|     Air Force 1 '07|                 Men|                 2.0|             7495.00|['7', '7.5', '8',...|                13.0|         White/White|          CW2288-111|1311.0|  NULL|LEGENDARY STYLE R...|   NULL|        35|         262325.0|\n",
            "|    Debuting in 1982| the AF-1 was the...| revolutionising ...|theAirForce1stays...|The stitched over...|                NULL|                NULL|                NULL|  NULL|  NULL|                NULL|   NULL|         5|             NULL|\n",
            "|           Air Max 1|                 Men|                 5.0|            12795.00|['6', '6.5', '7',...|                17.0|White/Photon Dust...|          FD9082-103|  88.0|   4.8|                    |   NULL|        77|         985215.0|\n",
            "|Meet the leader o...| the Air Max 1 bl...| wavy mudguard an...|thisclassiciconhi...|                NULL|                NULL|                NULL|                NULL|  NULL|  NULL|                NULL|   NULL|        19|             NULL|\n",
            "|                Sure| Air Max 1 starte...| but you can't ke...|thisrunnerwithaco...|         to this day| are celebrated y...|Plush and comfort...|                NULL|  NULL|  NULL|                NULL|   NULL|        35|             NULL|\n",
            "|          Air Max 90|                 Men|                 1.0|            11895.00|['7', '7.5', '8',...|                13.0|Anthracite/Black/...|          FB9658-001|   3.0|   4.7|                    |   NULL|        63|         749385.0|\n",
            "|Lace up and feel ...| revolutionised t...|  its Waffle outsole|visibleNikeAircus...|                NULL|                NULL|                NULL|                NULL|  NULL|  NULL|                NULL|   NULL|        16|             NULL|\n",
            "|The '90s were a t...|               music| fashion and snea...|itsrevolutionised...| it solidified Ai...|The textile upper...|                NULL|                NULL|  NULL|  NULL|                NULL|   NULL|        26|             NULL|\n",
            "|   Jordan Max Aura 5|                 Men|                 5.0|            11895.00|['7', '7.5', '8',...|                15.0|White/Varsity Red...|          DZ4353-101|  22.0|  NULL|                    |   NULL|        76|         904020.0|\n",
            "|Whenyou need a sh...| it's gotta be th...| this pair of kic...|runorskatealldaya...|                NULL|                NULL|                NULL|                NULL|  NULL|  NULL|                NULL|   NULL|        99|             NULL|\n",
            "|Air Force 1 '07 P...|                 Men|                 3.0|            13995.00|['6', '6.5', '7',...|                17.0|Light Silver/Clea...|          FB8875-002|   8.0|   4.6|                    |   NULL|        38|         531810.0|\n",
            "|Debuting in 1982 ...| the Air Force 1 ...| releasing limite...|AirForce1becamean...|000 iterations of...| its impact on fa...| music and sneake...|The leather upper...|  NULL|  NULL|                NULL|   NULL|        55|             NULL|\n",
            "|       Air Trainer 1|                 Men|                 1.0|            11895.00|['7', '7.5', '8',...|                13.0|Light Silver/Blac...|          FB8886-001|   1.0|   5.0|                    |   NULL|        68|         808860.0|\n",
            "|Where will you ta...| just like the or...| let you move acr...|aswellasamoderntr...| it keeps the leg...|                NULL|                NULL|                NULL|  NULL|  NULL|                NULL|   NULL|         8|             NULL|\n",
            "|The first of its ...| Nike Air technol...| supporting both ...|Originallydesigne...|                NULL|                NULL|                NULL|                NULL|  NULL|  NULL|                NULL|   NULL|        39|             NULL|\n",
            "|     Air Force 1 '07|                 Men|                 1.0|             8195.00|['7', '7.5', '8',...|                14.0|         White/Black|          CT2302-100| 171.0|  NULL|    LEGENDARY STYLE.|   NULL|        76|         622820.0|\n",
            "|    Debuting in 1982| the AF-1 was the...| revolutionising ...|theAirForce1stays...|Smoother than bac...|                NULL|                NULL|                NULL|  NULL|  NULL|                NULL|   NULL|         9|             NULL|\n",
            "|Dunk Low Retro Pr...|                 Men|                 1.0|             9695.00|['7', '7.5', '8',...|                13.0|Deep Jungle/Light...|          FB8896-300|   1.0|   5.0|                    |   NULL|         9|          87255.0|\n",
            "|From backboards t...| the influence of...| its flat and gri...|theDunkreleasedde...|The textured leat...|                NULL|                NULL|                NULL|  NULL|  NULL|                NULL|   NULL|        16|             NULL|\n",
            "|Blazer Low '77 Jumbo|                 Men|                 2.0|             8595.00|['7', '7.5', '8',...|                13.0|Sail/Gum Medium B...|          DR9865-101|  10.0|  NULL|                    |   NULL|        22|         189090.0|\n",
            "+--------------------+--------------------+--------------------+--------------------+--------------------+--------------------+--------------------+--------------------+------+------+--------------------+-------+----------+-----------------+\n",
            "only showing top 20 rows\n",
            "\n"
          ]
        }
      ]
    },
    {
      "cell_type": "markdown",
      "source": [
        "We simulated different pricing scenarios by creating a dummy discount column, which revealed potential to draw clients, boost sales, and increase revenue."
      ],
      "metadata": {
        "id": "yp1KDOnEul-i"
      }
    },
    {
      "cell_type": "code",
      "source": [
        "data = data.withColumn(\"Discount\", (rand() * 10).cast(\"int\"))\n",
        "data.show()"
      ],
      "metadata": {
        "colab": {
          "base_uri": "https://localhost:8080/"
        },
        "id": "pTKo1lwZOdYa",
        "outputId": "47e599e1-dd4b-4edc-f1d5-c985bb1f05cf"
      },
      "execution_count": 9,
      "outputs": [
        {
          "output_type": "stream",
          "name": "stdout",
          "text": [
            "+--------------------+--------------------+--------------------+--------------------+--------------------+--------------------+--------------------+--------------------+------+------+--------------------+-------+----------+-----------------+--------+\n",
            "|                Name|            Category|              Colors|               Price|               Sizes|         Count_Sizes|          Color_Name|        product_Code|Review|Rating|            Features|Comfort|Units_Sold|Revenue_Generated|Discount|\n",
            "+--------------------+--------------------+--------------------+--------------------+--------------------+--------------------+--------------------+--------------------+------+------+--------------------+-------+----------+-----------------+--------+\n",
            "|     Air Force 1 '07|                 Men|                 2.0|             7495.00|['7', '7.5', '8',...|                13.0|         White/White|          CW2288-111|1311.0|  NULL|LEGENDARY STYLE R...|   NULL|        35|         262325.0|       7|\n",
            "|    Debuting in 1982| the AF-1 was the...| revolutionising ...|theAirForce1stays...|The stitched over...|                NULL|                NULL|                NULL|  NULL|  NULL|                NULL|   NULL|         5|             NULL|       5|\n",
            "|           Air Max 1|                 Men|                 5.0|            12795.00|['6', '6.5', '7',...|                17.0|White/Photon Dust...|          FD9082-103|  88.0|   4.8|                    |   NULL|        77|         985215.0|       8|\n",
            "|Meet the leader o...| the Air Max 1 bl...| wavy mudguard an...|thisclassiciconhi...|                NULL|                NULL|                NULL|                NULL|  NULL|  NULL|                NULL|   NULL|        19|             NULL|       5|\n",
            "|                Sure| Air Max 1 starte...| but you can't ke...|thisrunnerwithaco...|         to this day| are celebrated y...|Plush and comfort...|                NULL|  NULL|  NULL|                NULL|   NULL|        35|             NULL|       3|\n",
            "|          Air Max 90|                 Men|                 1.0|            11895.00|['7', '7.5', '8',...|                13.0|Anthracite/Black/...|          FB9658-001|   3.0|   4.7|                    |   NULL|        63|         749385.0|       7|\n",
            "|Lace up and feel ...| revolutionised t...|  its Waffle outsole|visibleNikeAircus...|                NULL|                NULL|                NULL|                NULL|  NULL|  NULL|                NULL|   NULL|        16|             NULL|       1|\n",
            "|The '90s were a t...|               music| fashion and snea...|itsrevolutionised...| it solidified Ai...|The textile upper...|                NULL|                NULL|  NULL|  NULL|                NULL|   NULL|        26|             NULL|       1|\n",
            "|   Jordan Max Aura 5|                 Men|                 5.0|            11895.00|['7', '7.5', '8',...|                15.0|White/Varsity Red...|          DZ4353-101|  22.0|  NULL|                    |   NULL|        76|         904020.0|       0|\n",
            "|Whenyou need a sh...| it's gotta be th...| this pair of kic...|runorskatealldaya...|                NULL|                NULL|                NULL|                NULL|  NULL|  NULL|                NULL|   NULL|        99|             NULL|       5|\n",
            "|Air Force 1 '07 P...|                 Men|                 3.0|            13995.00|['6', '6.5', '7',...|                17.0|Light Silver/Clea...|          FB8875-002|   8.0|   4.6|                    |   NULL|        38|         531810.0|       9|\n",
            "|Debuting in 1982 ...| the Air Force 1 ...| releasing limite...|AirForce1becamean...|000 iterations of...| its impact on fa...| music and sneake...|The leather upper...|  NULL|  NULL|                NULL|   NULL|        55|             NULL|       5|\n",
            "|       Air Trainer 1|                 Men|                 1.0|            11895.00|['7', '7.5', '8',...|                13.0|Light Silver/Blac...|          FB8886-001|   1.0|   5.0|                    |   NULL|        68|         808860.0|       0|\n",
            "|Where will you ta...| just like the or...| let you move acr...|aswellasamoderntr...| it keeps the leg...|                NULL|                NULL|                NULL|  NULL|  NULL|                NULL|   NULL|         8|             NULL|       4|\n",
            "|The first of its ...| Nike Air technol...| supporting both ...|Originallydesigne...|                NULL|                NULL|                NULL|                NULL|  NULL|  NULL|                NULL|   NULL|        39|             NULL|       4|\n",
            "|     Air Force 1 '07|                 Men|                 1.0|             8195.00|['7', '7.5', '8',...|                14.0|         White/Black|          CT2302-100| 171.0|  NULL|    LEGENDARY STYLE.|   NULL|        76|         622820.0|       2|\n",
            "|    Debuting in 1982| the AF-1 was the...| revolutionising ...|theAirForce1stays...|Smoother than bac...|                NULL|                NULL|                NULL|  NULL|  NULL|                NULL|   NULL|         9|             NULL|       2|\n",
            "|Dunk Low Retro Pr...|                 Men|                 1.0|             9695.00|['7', '7.5', '8',...|                13.0|Deep Jungle/Light...|          FB8896-300|   1.0|   5.0|                    |   NULL|         9|          87255.0|       9|\n",
            "|From backboards t...| the influence of...| its flat and gri...|theDunkreleasedde...|The textured leat...|                NULL|                NULL|                NULL|  NULL|  NULL|                NULL|   NULL|        16|             NULL|       3|\n",
            "|Blazer Low '77 Jumbo|                 Men|                 2.0|             8595.00|['7', '7.5', '8',...|                13.0|Sail/Gum Medium B...|          DR9865-101|  10.0|  NULL|                    |   NULL|        22|         189090.0|       6|\n",
            "+--------------------+--------------------+--------------------+--------------------+--------------------+--------------------+--------------------+--------------------+------+------+--------------------+-------+----------+-----------------+--------+\n",
            "only showing top 20 rows\n",
            "\n"
          ]
        }
      ]
    },
    {
      "cell_type": "markdown",
      "source": [
        "We refined our observations and prioritized important products and trends to guide targeted tactics by limiting our study to the top 300 entries based on revenue earned. We were able to efficiently focus resources thanks to this strategic strategy, which also increased the likelihood of revenue growth and cemented Sole Haven's standing as a leader in the cutthroat shoe industry."
      ],
      "metadata": {
        "id": "YM13WLRHvHtV"
      }
    },
    {
      "cell_type": "code",
      "source": [
        "data = data.orderBy(col(\"Revenue_Generated\").desc())"
      ],
      "metadata": {
        "id": "n8MWEujQLhLl"
      },
      "execution_count": 10,
      "outputs": []
    },
    {
      "cell_type": "code",
      "source": [
        "All_Shoes_new = data.limit(300)"
      ],
      "metadata": {
        "id": "_xYAeLNWMF4J"
      },
      "execution_count": 11,
      "outputs": []
    },
    {
      "cell_type": "code",
      "source": [
        "All_Shoes_new.show()"
      ],
      "metadata": {
        "colab": {
          "base_uri": "https://localhost:8080/"
        },
        "id": "JBEqqjDyM32r",
        "outputId": "abf3adc1-514e-4df8-dbf3-eeb0490c32cd"
      },
      "execution_count": 12,
      "outputs": [
        {
          "output_type": "stream",
          "name": "stdout",
          "text": [
            "+--------------------+--------+------+--------+--------------------+-----------+--------------------+------------+------+------+--------------------+-------+----------+-----------------+--------+\n",
            "|                Name|Category|Colors|   Price|               Sizes|Count_Sizes|          Color_Name|product_Code|Review|Rating|            Features|Comfort|Units_Sold|Revenue_Generated|Discount|\n",
            "+--------------------+--------+------+--------+--------------------+-----------+--------------------+------------+------+------+--------------------+-------+----------+-----------------+--------+\n",
            "|Phantom Luna Elit...|  Unisex|   1.0|26795.00|['4.5', '5', '5.5...|       12.0|Fuchsia Dream/Bar...|  FQ8033-500|   0.0|   0.0|                    |   NULL|        88|        2357960.0|       0|\n",
            "| Phantom GX Elite SE|  Unisex|   1.0|23795.00|               ['7']|        1.0|Fuchsia Dream/Bar...|  FD0565-500|   0.0|   0.0|                    |   NULL|        94|        2236730.0|       1|\n",
            "|          Alphafly 2|   Women|   4.0|21657.00|                NULL|       NULL|Black/Sea Coral/W...|  DN3559-001| 146.0|   4.3|                    |   NULL|        99|        2144043.0|       9|\n",
            "|          Alphafly 2|   Women|   4.0|21657.00|                NULL|       NULL|White/Clear Jade/...|  DN3559-100| 146.0|   4.3|                    |   NULL|        99|        2144043.0|       8|\n",
            "|Mercurial Vapor 1...|  Unisex|   4.0|21995.00|                NULL|       NULL|White/Coconut Mil...|  DJ4978-101|  37.0|   4.7|LOOK FAST, FEEL F...|   NULL|        97|        2133515.0|       3|\n",
            "|    Alphafly 3 Proto|     Men|   1.0|22795.00|                NULL|       NULL|White/Phantom/Tot...|  FD8356-100|   0.0|  NULL|                    |   NULL|        91|        2074345.0|       7|\n",
            "|Air Max Scorpion ...|     Men|   1.0|22995.00|['7', '7.5', '8',...|       13.0|Black/Anthracite/...|  DJ4701-003| 108.0|  NULL|                    |   NULL|        90|        2069550.0|       9|\n",
            "|  Phantom Luna Elite|  Unisex|   1.0|23795.00|['6', '6.5', '7',...|        8.0|Hyper Turquoise/F...|  FN8405-300|  31.0|  NULL|                    |   NULL|        86|        2046370.0|       7|\n",
            "|Mercurial Vapor 1...|  Unisex|   4.0|21995.00|        ['12', '13']|        2.0|Pink Blast/Gridir...|  DJ4978-605|  37.0|   4.7|LOOK FAST, FEEL F...|   NULL|        92|        2023540.0|       9|\n",
            "|          Alphafly 2|   Women|   4.0|21657.00|                NULL|       NULL|Black/Sea Coral/W...|  DN3559-001| 146.0|   4.3|                    |   NULL|        92|        1992444.0|       3|\n",
            "|Air VaporMax 2023...|     Men|   9.0|19295.00|['7', '7.5', '8',...|       13.0|Pure Platinum/Ant...|  DV1678-004| 169.0|   4.6|                    |   NULL|        97|        1871615.0|       0|\n",
            "|          Vaporfly 3|   Women|   5.0|20695.00|             ['6.5']|        1.0|Hyper Pink/Laser ...|  DV4130-600| 211.0|   4.6|                    |   NULL|        90|        1862550.0|       4|\n",
            "|          Vaporfly 3|   Women|   5.0|20695.00|['5', '5.5', '6',...|       10.0|Black/Black/Oatme...|  DV4130-002| 211.0|   4.6|                    |   NULL|        89|        1841855.0|       5|\n",
            "|Air Jordan 1 Elev...|   Women|   1.0|18395.00|['6', '6.5', '7',...|        6.0|Sail/Muslin/Gum Y...|  FD0696-100|   3.0|   5.0|                    |   NULL|        97|        1784315.0|       5|\n",
            "|          Vaporfly 3|     Men|   6.0|19657.00|                NULL|       NULL|Racer Blue/Black/...|  DV4129-400| 211.0|   4.6|                    |   NULL|        90|        1769130.0|       5|\n",
            "| Air Jordan 6 'Aqua'|     Men|   1.0|18395.00|['7.5', '8', '8.5...|        9.0|Black/Aquatone/Br...|  CT8529-004| 341.0|   4.8|                    |   NULL|        96|        1765920.0|       9|\n",
            "|    Phantom GX Elite|  Unisex|   2.0|21995.00|['6', '7', '8', '...|        5.0|Black/Hyper Royal...|  DD9441-040|   3.0|   4.0|                    |   NULL|        79|        1737605.0|       8|\n",
            "|LeBron XX Premium EP|  Unisex|   1.0|19295.00|['7', '7.5', '8',...|        5.0|Guava Ice/Bordeau...|  FJ0724-801|   0.0|   0.0|                    |   NULL|        90|        1736550.0|       9|\n",
            "|Air Jordan XXXVII...|  Unisex|   3.0|18395.00|['7', '7.5', '8',...|        9.0|White/Siren Red/B...|  DZ3355-106|   0.0|   0.0|                    |   NULL|        94|        1729130.0|       7|\n",
            "|          Vaporfly 3|     Men|   4.0|20695.00|['7', '7.5', '8',...|       13.0|Black/Black/Oatme...|  DV4129-001| 211.0|   4.6|                    |   NULL|        83|        1717685.0|       3|\n",
            "+--------------------+--------+------+--------+--------------------+-----------+--------------------+------------+------+------+--------------------+-------+----------+-----------------+--------+\n",
            "only showing top 20 rows\n",
            "\n"
          ]
        }
      ]
    },
    {
      "cell_type": "markdown",
      "source": [
        "# **Business Objective 1:** What insights can be leveraged to optimize marketing strategies and drive sales revenue across different target segments?\n",
        "\n",
        "Computed aggregate statistics on shoe sales and revenue across different categories (Men, Women, Unisex). By grouping shoes by category and summing units sold and revenue generated, it provides insights into which shoe categories are performing the best in terms of sales and revenue. This analysis would help US understand the relative performance of different shoe categories, allowing them to allocate resources, adjust marketing strategies, and prioritize product offerings accordingly to optimize profitability and meet customer demand."
      ],
      "metadata": {
        "id": "9vr2z-JLvmGa"
      }
    },
    {
      "cell_type": "code",
      "source": [
        "category_sales = All_Shoes_new.groupBy('Category') \\\n",
        "    .agg({'Units_Sold': 'sum', 'Revenue_Generated': 'sum'}) \\\n",
        "    .withColumnRenamed('sum(Units_Sold)', 'Total_Units_Sold') \\\n",
        "    .withColumnRenamed('sum(Revenue_Generated)', 'Total_Revenue_Generated')\n",
        "category_sales.show()"
      ],
      "metadata": {
        "colab": {
          "base_uri": "https://localhost:8080/"
        },
        "id": "cKDTRqt7YfTK",
        "outputId": "ae085a56-a947-489e-8551-7196fd0743e3"
      },
      "execution_count": 13,
      "outputs": [
        {
          "output_type": "stream",
          "name": "stdout",
          "text": [
            "+--------+-----------------------+----------------+\n",
            "|Category|Total_Revenue_Generated|Total_Units_Sold|\n",
            "+--------+-----------------------+----------------+\n",
            "|  Unisex|            6.4249602E7|            3688|\n",
            "|   Women|            1.2076013E8|            7932|\n",
            "|     Men|           1.99562794E8|           12908|\n",
            "+--------+-----------------------+----------------+\n",
            "\n"
          ]
        }
      ]
    },
    {
      "cell_type": "markdown",
      "source": [
        "**Analysis:**\n",
        "The analysis of shoe sales by category reveals that men's shoes generate the highest total revenue, indicating strong demand in this segment. Women's shoes also contribute significantly to revenue, although units sold are comparatively lower. Unisex shoes, while accounting for fewer units sold, still make a notable contribution to total revenue. This suggests potential areas for targeted marketing and product development strategies to further capitalize on the strong performance of men's shoes and explore growth opportunities in the women's and unisex segments."
      ],
      "metadata": {
        "id": "0tJnSTo7wI2t"
      }
    },
    {
      "cell_type": "markdown",
      "source": [
        "The below code generates a list of best-selling products based on total units sold across different categories. This information is valuable as it highlights the most popular items among customers, aiding inventory management, marketing strategies, and product development efforts."
      ],
      "metadata": {
        "id": "mqcGF326wnjT"
      }
    },
    {
      "cell_type": "code",
      "source": [
        "best_selling_products = All_Shoes_new.groupBy('Name', 'Category') \\\n",
        "    .agg({'Units_Sold': 'sum', 'Revenue_Generated': 'sum'}) \\\n",
        "    .withColumnRenamed('sum(Units_Sold)', 'Total_Units_Sold') \\\n",
        "    .withColumnRenamed('sum(Revenue_Generated)', 'Total_Revenue_Generated') \\\n",
        "    .orderBy(col('Total_Units_Sold').desc())\n"
      ],
      "metadata": {
        "id": "g_UtMDmhWvU5"
      },
      "execution_count": 16,
      "outputs": []
    },
    {
      "cell_type": "code",
      "source": [
        "best_selling_products.show()"
      ],
      "metadata": {
        "colab": {
          "base_uri": "https://localhost:8080/"
        },
        "id": "enWukkDDXZOl",
        "outputId": "3c704ca9-8bcb-4bb2-d4b5-5bd8f23c4c4b"
      },
      "execution_count": 17,
      "outputs": [
        {
          "output_type": "stream",
          "name": "stdout",
          "text": [
            "+--------------------+--------+-----------------------+----------------+\n",
            "|                Name|Category|Total_Revenue_Generated|Total_Units_Sold|\n",
            "+--------------------+--------+-----------------------+----------------+\n",
            "|        Invincible 3|   Women|            1.0669145E7|             643|\n",
            "|          Vaporfly 3|     Men|            1.3059906E7|             642|\n",
            "|Air VaporMax 2023...|     Men|            1.1320935E7|             593|\n",
            "|        InfinityRN 4|   Women|              8832055.0|             589|\n",
            "|          Air Max 97|     Men|              9499882.0|             574|\n",
            "|        Invincible 3|     Men|              7446591.0|             445|\n",
            "|Pegasus Trail 4 G...|     Men|              6373330.0|             438|\n",
            "|        InfinityRN 4|     Men|              6237920.0|             416|\n",
            "|          Alphafly 2|   Women|              8947545.0|             407|\n",
            "|          Vaporfly 3|   Women|              8093561.0|             395|\n",
            "|Air Jordan 1 Elev...|   Women|              4384484.0|             378|\n",
            "|         Air Max 270|     Men|              4812501.0|             353|\n",
            "| Air Jordan I High G|     Men|              5728478.0|             346|\n",
            "|          Air Humara|     Men|              5039991.0|             341|\n",
            "|       Pegasus Turbo|   Women|              4603099.0|             333|\n",
            "|        Air Max 2017|     Men|              4969419.0|             327|\n",
            "|Mercurial Vapor 1...|  Unisex|              7170370.0|             326|\n",
            "|Air Jordan XXXVII...|  Unisex|              5978375.0|             325|\n",
            "|          Pegasus 40|   Women|              3161093.0|             275|\n",
            "|   Jordan Max Aura 5|     Men|              3146533.0|             269|\n",
            "+--------------------+--------+-----------------------+----------------+\n",
            "only showing top 20 rows\n",
            "\n"
          ]
        }
      ]
    },
    {
      "cell_type": "markdown",
      "source": [
        "From the output, we observe that the top-selling products vary across categories. For instance, in the women's category, \"Pegasus Turbo\" and \"Pegasus 40\" are the best-selling shoes, while in the men's category, \"Air Max Pulse\" and \"Air Max 270\" lead in total units sold. The presence of \"Air Jordan XXXVII\" among the best-selling products in the unisex category suggests its universal appeal.\n",
        "\n",
        "This analysis guides retailers in understanding consumer preferences, optimizing product assortment, and tailoring marketing campaigns to maximize sales and revenue across different target segments."
      ],
      "metadata": {
        "id": "hsGQ2N1wwtTw"
      }
    },
    {
      "cell_type": "markdown",
      "source": [
        "As we dive deeper into the analysis of Sole Haven's shoe data, we encounter the challenge of missing values in crucial columns such as colors, units sold, count of sizes, price, and rating. These missing values could distort our analysis and lead to inaccurate insights. Hence, we implement a robust data preprocessing pipeline to address this issue.\n",
        "\n",
        "First, we identify the relevant columns for analysis - colors, price, rating, units sold, and count of sizes. Then, we ensure that each column is converted to its appropriate data type (integer or float) for accurate computations and analyses.\n",
        "\n",
        "Next, we confront the issue of missing values. Understanding the importance of accurate data, they decide to impute missing values using a thoughtful approach. For categorical variables like colors and numerical variables like units sold and count of sizes, we randomly generate integers within the observed range of each column to replace the missing values. This ensures that the imputed values maintain the statistical characteristics of the original data while filling in the gaps.\n",
        "\n",
        "By implementing this data preprocessing pipeline, we ensure that our analyses are based on comprehensive and reliable data, enabling us to derive meaningful insights and make informed decisions"
      ],
      "metadata": {
        "id": "6ncaepHDxvve"
      }
    },
    {
      "cell_type": "code",
      "source": [
        "from pyspark.sql.functions import col, when, avg\n",
        "from pyspark.sql.types import FloatType, IntegerType\n",
        "import random\n",
        "\n",
        "# Select relevant columns\n",
        "selected_columns = [\"Colors\", \"Price\", \"Rating\", \"Units_sold\", \"Count_Sizes\"]\n",
        "\n",
        "# Convert columns to their respective types\n",
        "for col_name in selected_columns:\n",
        "    if col_name == \"Colors\" or col_name == \"Units_sold\" or col_name == \"Count_Sizes\":\n",
        "        All_Shoes_new = All_Shoes_new.withColumn(col_name, All_Shoes_new[col_name].cast(IntegerType()))\n",
        "    elif col_name == \"Price\" or col_name == \"Rating\":\n",
        "        All_Shoes_new = All_Shoes_new.withColumn(col_name, All_Shoes_new[col_name].cast(FloatType()))\n",
        "\n",
        "# Impute missing values with random integers within the range of each column\n",
        "for col_name in selected_columns:\n",
        "    if col_name in [\"Colors\", \"Units_sold\", \"Count_Sizes\"]:\n",
        "        # Find the range of the column\n",
        "        column_min = All_Shoes_new.agg({col_name: \"min\"}).collect()[0][0]\n",
        "        column_max = All_Shoes_new.agg({col_name: \"max\"}).collect()[0][0]\n",
        "\n",
        "        # Impute missing values with random integers within the range\n",
        "        All_Shoes_new = All_Shoes_new.withColumn(col_name, when(col(col_name).isNull(), random.randint(column_min, column_max)).otherwise(col(col_name)))\n",
        "\n",
        "# Show the updated DataFrame\n",
        "All_Shoes_new.show(5)\n"
      ],
      "metadata": {
        "colab": {
          "base_uri": "https://localhost:8080/"
        },
        "id": "E7xISzHIrTgj",
        "outputId": "e5db1d91-038b-483a-b496-68c5e449b745"
      },
      "execution_count": 18,
      "outputs": [
        {
          "output_type": "stream",
          "name": "stdout",
          "text": [
            "+--------------------+--------+------+-------+--------------------+-----------+--------------------+------------+------+------+--------------------+-------+----------+-----------------+--------+\n",
            "|                Name|Category|Colors|  Price|               Sizes|Count_Sizes|          Color_Name|product_Code|Review|Rating|            Features|Comfort|Units_sold|Revenue_Generated|Discount|\n",
            "+--------------------+--------+------+-------+--------------------+-----------+--------------------+------------+------+------+--------------------+-------+----------+-----------------+--------+\n",
            "|Phantom Luna Elit...|  Unisex|     1|26795.0|['4.5', '5', '5.5...|         12|Fuchsia Dream/Bar...|  FQ8033-500|   0.0|   0.0|                    |   NULL|        88|        2357960.0|       0|\n",
            "| Phantom GX Elite SE|  Unisex|     1|23795.0|               ['7']|          1|Fuchsia Dream/Bar...|  FD0565-500|   0.0|   0.0|                    |   NULL|        94|        2236730.0|       1|\n",
            "|          Alphafly 2|   Women|     4|21657.0|                NULL|         16|Black/Sea Coral/W...|  DN3559-001| 146.0|   4.3|                    |   NULL|        99|        2144043.0|       9|\n",
            "|          Alphafly 2|   Women|     4|21657.0|                NULL|         16|White/Clear Jade/...|  DN3559-100| 146.0|   4.3|                    |   NULL|        99|        2144043.0|       8|\n",
            "|Mercurial Vapor 1...|  Unisex|     4|21995.0|                NULL|         16|White/Coconut Mil...|  DJ4978-101|  37.0|   4.7|LOOK FAST, FEEL F...|   NULL|        97|        2133515.0|       3|\n",
            "+--------------------+--------+------+-------+--------------------+-----------+--------------------+------------+------+------+--------------------+-------+----------+-----------------+--------+\n",
            "only showing top 5 rows\n",
            "\n"
          ]
        }
      ]
    },
    {
      "cell_type": "code",
      "source": [
        "from pyspark.ml.feature import VectorAssembler, OneHotEncoder, StringIndexer\n",
        "from pyspark.ml.feature import StandardScaler\n",
        "from pyspark.ml.clustering import KMeans\n",
        "from pyspark.ml import Pipeline"
      ],
      "metadata": {
        "id": "Z1HuvOq8XdK1"
      },
      "execution_count": 19,
      "outputs": []
    },
    {
      "cell_type": "markdown",
      "source": [
        "# **Business Objective 2:** How can we enhance customer segmentation, optimize marketing strategies, and improve inventory management in the shoe store, ultimately driving competitive advantage and customer loyalty?\n",
        "\n",
        "K-means clustering empowers with insights into customer preferences and product segmentation, fostering tailored marketing strategies and informed inventory management. By identifying distinct clusters within the shoe data, we can optimize product placement, personalize customer experiences, and swiftly adapt to evolving market trends, ultimately enhancing its competitive edge and customer loyalty."
      ],
      "metadata": {
        "id": "9bT4aqRCynps"
      }
    },
    {
      "cell_type": "code",
      "source": [
        "data = All_Shoes_new[\"Name\",\"Category\",\"Colors\",\"Price\",\"Color_Name\",\"Rating\",\"Features\",\"Comfort\",\"Units_Sold\",\"Revenue_Generated\",\"Discount\", \"Count_Sizes\"]\n",
        "print(data.count())\n",
        "\n",
        "for col in [\"Colors\", \"Price\", \"Rating\", \"Units_sold\", \"Count_Sizes\"]:\n",
        "    data = data.withColumn(col, data[col].cast(\"float\"))\n",
        "\n",
        "category_indexer = StringIndexer(inputCol=\"Category\", outputCol=\"CategoryIndex\")\n",
        "encoder = OneHotEncoder(inputCols=[\"CategoryIndex\"], outputCols=[\"New_Category\"])\n",
        "pipeline = Pipeline(stages=[category_indexer, encoder])\n",
        "pipeline_model = pipeline.fit(data)\n",
        "data = pipeline_model.transform(data)\n",
        "\n",
        "# Assemble features into a single column\n",
        "feature_columns = [\"Colors\", \"Price\", \"Rating\", \"New_Category\", \"Units_sold\", \"Count_Sizes\"]\n",
        "\n",
        "\n",
        "assembler = VectorAssembler(inputCols=feature_columns, outputCol=\"assembled_features\", handleInvalid=\"skip\")\n",
        "data = assembler.transform(data)\n",
        "\n",
        "# Scale features\n",
        "scaler = StandardScaler(inputCol=\"assembled_features\", outputCol=\"scaled_features\", withStd=True, withMean=False)\n",
        "scaler_model = scaler.fit(data)\n",
        "data = scaler_model.transform(data)\n",
        "\n",
        "# Perform k-means clustering\n",
        "kmeans = KMeans(featuresCol=\"scaled_features\").setK(3)\n",
        "results = kmeans.fit(data).transform(data)\n",
        "\n",
        "# Show the results\n",
        "results.show(10)\n"
      ],
      "metadata": {
        "colab": {
          "base_uri": "https://localhost:8080/"
        },
        "id": "4Ah9VfEUZ0TH",
        "outputId": "37090aa4-1751-4651-b2be-01eb09173601"
      },
      "execution_count": 20,
      "outputs": [
        {
          "output_type": "stream",
          "name": "stdout",
          "text": [
            "300\n",
            "+--------------------+--------+------+-------+--------------------+------+--------------------+-------+----------+-----------------+--------+-----------+-------------+-------------+--------------------+--------------------+----------+\n",
            "|                Name|Category|Colors|  Price|          Color_Name|Rating|            Features|Comfort|Units_sold|Revenue_Generated|Discount|Count_Sizes|CategoryIndex| New_Category|  assembled_features|     scaled_features|prediction|\n",
            "+--------------------+--------+------+-------+--------------------+------+--------------------+-------+----------+-----------------+--------+-----------+-------------+-------------+--------------------+--------------------+----------+\n",
            "|Phantom Luna Elit...|  Unisex|   1.0|26795.0|Fuchsia Dream/Bar...|   0.0|                    |   NULL|      88.0|        2357960.0|       0|       12.0|          2.0|    (2,[],[])|[1.0,26795.0,0.0,...|[0.36895869487533...|         1|\n",
            "| Phantom GX Elite SE|  Unisex|   1.0|23795.0|Fuchsia Dream/Bar...|   0.0|                    |   NULL|      94.0|        2236730.0|       1|        1.0|          2.0|    (2,[],[])|[1.0,23795.0,0.0,...|[0.36895869487533...|         1|\n",
            "|          Alphafly 2|   Women|   4.0|21657.0|Black/Sea Coral/W...|   4.3|                    |   NULL|      99.0|        2144043.0|       9|       16.0|          1.0|(2,[1],[1.0])|[4.0,21657.0,4.30...|[1.47583477950135...|         2|\n",
            "|          Alphafly 2|   Women|   4.0|21657.0|White/Clear Jade/...|   4.3|                    |   NULL|      99.0|        2144043.0|       8|       16.0|          1.0|(2,[1],[1.0])|[4.0,21657.0,4.30...|[1.47583477950135...|         2|\n",
            "|Mercurial Vapor 1...|  Unisex|   4.0|21995.0|White/Coconut Mil...|   4.7|LOOK FAST, FEEL F...|   NULL|      97.0|        2133515.0|       3|       16.0|          2.0|    (2,[],[])|[4.0,21995.0,4.69...|[1.47583477950135...|         0|\n",
            "|Mercurial Vapor 1...|  Unisex|   4.0|21995.0|Pink Blast/Gridir...|   4.7|LOOK FAST, FEEL F...|   NULL|      92.0|        2023540.0|       9|        2.0|          2.0|    (2,[],[])|[4.0,21995.0,4.69...|[1.47583477950135...|         0|\n",
            "|          Alphafly 2|   Women|   4.0|21657.0|Black/Sea Coral/W...|   4.3|                    |   NULL|      92.0|        1992444.0|       3|       16.0|          1.0|(2,[1],[1.0])|[4.0,21657.0,4.30...|[1.47583477950135...|         2|\n",
            "|Air VaporMax 2023...|     Men|   9.0|19295.0|Pure Platinum/Ant...|   4.6|                    |   NULL|      97.0|        1871615.0|       0|       13.0|          0.0|(2,[0],[1.0])|[9.0,19295.0,4.59...|[3.32062825387805...|         0|\n",
            "|          Vaporfly 3|   Women|   5.0|20695.0|Hyper Pink/Laser ...|   4.6|                    |   NULL|      90.0|        1862550.0|       4|        1.0|          1.0|(2,[1],[1.0])|[5.0,20695.0,4.59...|[1.84479347437669...|         2|\n",
            "|          Vaporfly 3|   Women|   5.0|20695.0|Black/Black/Oatme...|   4.6|                    |   NULL|      89.0|        1841855.0|       5|       10.0|          1.0|(2,[1],[1.0])|[5.0,20695.0,4.59...|[1.84479347437669...|         2|\n",
            "+--------------------+--------+------+-------+--------------------+------+--------------------+-------+----------+-----------------+--------+-----------+-------------+-------------+--------------------+--------------------+----------+\n",
            "only showing top 10 rows\n",
            "\n"
          ]
        }
      ]
    },
    {
      "cell_type": "code",
      "source": [
        "cluster1=results.filter(results['prediction']==0)\n",
        "cluster1.select([\"Name\", \"Colors\", \"Price\", \"Revenue_Generated\", \"New_Category\", \"Units_sold\", \"Count_Sizes\"]).show()\n",
        "cluster1.count()\n",
        "print(cluster1.agg(avg('Price')).collect()[0][0])\n",
        "print(int(cluster1.agg(avg('Count_Sizes')).collect()[0][0]))"
      ],
      "metadata": {
        "colab": {
          "base_uri": "https://localhost:8080/"
        },
        "id": "sZ43WOzdbA-a",
        "outputId": "1bf53d95-65f9-41cf-9552-cfaa0ee1c37e"
      },
      "execution_count": 21,
      "outputs": [
        {
          "output_type": "stream",
          "name": "stdout",
          "text": [
            "+--------------------+------+-------+-----------------+-------------+----------+-----------+\n",
            "|                Name|Colors|  Price|Revenue_Generated| New_Category|Units_sold|Count_Sizes|\n",
            "+--------------------+------+-------+-----------------+-------------+----------+-----------+\n",
            "|Mercurial Vapor 1...|   4.0|21995.0|        2133515.0|    (2,[],[])|      97.0|       16.0|\n",
            "|Mercurial Vapor 1...|   4.0|21995.0|        2023540.0|    (2,[],[])|      92.0|        2.0|\n",
            "|Air VaporMax 2023...|   9.0|19295.0|        1871615.0|(2,[0],[1.0])|      97.0|       13.0|\n",
            "|          Vaporfly 3|   6.0|19657.0|        1769130.0|(2,[0],[1.0])|      90.0|       16.0|\n",
            "| Air Jordan 6 'Aqua'|   1.0|18395.0|        1765920.0|(2,[0],[1.0])|      96.0|        9.0|\n",
            "|          Vaporfly 3|   4.0|20695.0|        1717685.0|(2,[0],[1.0])|      83.0|       13.0|\n",
            "|Mercurial Vapor 1...|   4.0|21995.0|        1693615.0|    (2,[],[])|      77.0|        2.0|\n",
            "|        Invincible 3|   7.0|16995.0|        1665510.0|(2,[0],[1.0])|      98.0|       13.0|\n",
            "| Air Jordan I High G|   3.0|16995.0|        1665510.0|(2,[0],[1.0])|      98.0|       16.0|\n",
            "|Air VaporMax 2023...|   9.0|19295.0|        1640075.0|(2,[0],[1.0])|      85.0|        3.0|\n",
            "| Air Jordan I High G|   2.0|16147.0|        1566259.0|(2,[0],[1.0])|      97.0|        2.0|\n",
            "|        Invincible 3|   7.0|16995.0|        1563540.0|(2,[0],[1.0])|      92.0|       13.0|\n",
            "| Air Jordan 13 Retro|   2.0|19295.0|        1562895.0|    (2,[],[])|      81.0|        1.0|\n",
            "|  Air Jordan 3 Retro|   3.0|15995.0|        1551515.0|(2,[0],[1.0])|      97.0|       16.0|\n",
            "|          Air Max 97|   9.0|16147.0|        1550112.0|(2,[0],[1.0])|      96.0|        1.0|\n",
            "|        Invincible 3|   7.0|16147.0|        1550112.0|(2,[0],[1.0])|      96.0|       16.0|\n",
            "|        Air Jordan 1|   2.0|17595.0|        1530765.0|    (2,[],[])|      87.0|        1.0|\n",
            "|        Invincible 3|   1.0|16617.0|        1528764.0|(2,[0],[1.0])|      92.0|        2.0|\n",
            "|          Vaporfly 3|   6.0|20695.0|        1510735.0|(2,[0],[1.0])|      73.0|       16.0|\n",
            "|          Vaporfly 3|   6.0|20695.0|        1510735.0|(2,[0],[1.0])|      73.0|        1.0|\n",
            "+--------------------+------+-------+-----------------+-------------+----------+-----------+\n",
            "only showing top 20 rows\n",
            "\n",
            "15559.612244897959\n",
            "10\n"
          ]
        }
      ]
    },
    {
      "cell_type": "code",
      "source": [
        "cluster2=results.filter(results['prediction']==1)\n",
        "cluster2.select([\"Name\", \"Colors\", \"Price\", \"Revenue_Generated\", \"New_Category\",\"Units_sold\", \"Count_Sizes\"]).show()\n",
        "cluster2.count()\n",
        "print(cluster2.agg(avg('Price')).collect()[0][0])\n",
        "print(int(cluster2.agg(avg('Count_Sizes')).collect()[0][0]))"
      ],
      "metadata": {
        "colab": {
          "base_uri": "https://localhost:8080/"
        },
        "id": "-BRCNXxqr8gk",
        "outputId": "c5736d18-9375-4014-bbb5-73d313b387d6"
      },
      "execution_count": 22,
      "outputs": [
        {
          "output_type": "stream",
          "name": "stdout",
          "text": [
            "+--------------------+------+-------+-----------------+-------------+----------+-----------+\n",
            "|                Name|Colors|  Price|Revenue_Generated| New_Category|Units_sold|Count_Sizes|\n",
            "+--------------------+------+-------+-----------------+-------------+----------+-----------+\n",
            "|Phantom Luna Elit...|   1.0|26795.0|        2357960.0|    (2,[],[])|      88.0|       12.0|\n",
            "| Phantom GX Elite SE|   1.0|23795.0|        2236730.0|    (2,[],[])|      94.0|        1.0|\n",
            "|    Phantom GX Elite|   2.0|21995.0|        1737605.0|    (2,[],[])|      79.0|        5.0|\n",
            "|LeBron XX Premium EP|   1.0|19295.0|        1736550.0|    (2,[],[])|      90.0|        5.0|\n",
            "|Air Jordan XXXVII...|   3.0|18395.0|        1729130.0|    (2,[],[])|      94.0|        9.0|\n",
            "|    Phantom GX Elite|   2.0|21995.0|        1605635.0|    (2,[],[])|      73.0|       12.0|\n",
            "|Superfly 9 Elite ...|   1.0|25095.0|        1555890.0|    (2,[],[])|      62.0|       11.0|\n",
            "|    G.T. Hustle 2 EP|   1.0|15995.0|        1551515.0|(2,[0],[1.0])|      97.0|       11.0|\n",
            "|          Air Max 97|   1.0|16147.0|        1550112.0|(2,[1],[1.0])|      96.0|        3.0|\n",
            "|Air Jordan XXXVII...|   3.0|18395.0|        1508390.0|    (2,[],[])|      82.0|       12.0|\n",
            "|     Tiger Woods '13|   2.0|21295.0|        1490650.0|(2,[0],[1.0])|      70.0|       16.0|\n",
            "|Air Max 1 '87 Safari|   1.0|16995.0|        1478565.0|(2,[1],[1.0])|      87.0|        8.0|\n",
            "|     Tiger Woods '13|   2.0|21295.0|        1448060.0|(2,[0],[1.0])|      68.0|        2.0|\n",
            "|      Air Penny 2 QS|   1.0|18395.0|        1434810.0|(2,[0],[1.0])|      78.0|        6.0|\n",
            "|Vapor 15 Elite Me...|   1.0|22995.0|        1425690.0|    (2,[],[])|      62.0|        9.0|\n",
            "|LeBron XXI 'Akoya...|   2.0|18395.0|        1416415.0|    (2,[],[])|      77.0|        7.0|\n",
            "|    Air Adjust Force|   1.0|15995.0|        1391565.0|(2,[1],[1.0])|      87.0|        8.0|\n",
            "|Air Jordan XXXVII...|   3.0|18395.0|        1379625.0|    (2,[],[])|      75.0|       12.0|\n",
            "|Air Force 1 High ...|   1.0|13995.0|        1371510.0|(2,[0],[1.0])|      98.0|        9.0|\n",
            "|         Air Penny 2|   1.0|19295.0|        1369945.0|(2,[0],[1.0])|      71.0|       11.0|\n",
            "+--------------------+------+-------+-----------------+-------------+----------+-----------+\n",
            "only showing top 20 rows\n",
            "\n",
            "17213.0\n",
            "9\n"
          ]
        }
      ]
    },
    {
      "cell_type": "code",
      "source": [
        "cluster3=results.filter(results['prediction']==2)\n",
        "cluster3.select([\"Name\", \"Colors\", \"Price\", \"Revenue_Generated\", \"New_Category\",\"Units_sold\", \"Count_Sizes\"]).show()\n",
        "cluster3.count()\n",
        "print(cluster3.agg(avg('Price')).collect()[0][0])\n",
        "print(int(cluster3.agg(avg('Count_Sizes')).collect()[0][0]))"
      ],
      "metadata": {
        "colab": {
          "base_uri": "https://localhost:8080/"
        },
        "id": "J4pN0wXmr-Eu",
        "outputId": "474037c7-57a8-47f3-cf93-eb46a28c7f40"
      },
      "execution_count": 23,
      "outputs": [
        {
          "output_type": "stream",
          "name": "stdout",
          "text": [
            "+--------------------+------+-------+-----------------+-------------+----------+-----------+\n",
            "|                Name|Colors|  Price|Revenue_Generated| New_Category|Units_sold|Count_Sizes|\n",
            "+--------------------+------+-------+-----------------+-------------+----------+-----------+\n",
            "|          Alphafly 2|   4.0|21657.0|        2144043.0|(2,[1],[1.0])|      99.0|       16.0|\n",
            "|          Alphafly 2|   4.0|21657.0|        2144043.0|(2,[1],[1.0])|      99.0|       16.0|\n",
            "|          Alphafly 2|   4.0|21657.0|        1992444.0|(2,[1],[1.0])|      92.0|       16.0|\n",
            "|          Vaporfly 3|   5.0|20695.0|        1862550.0|(2,[1],[1.0])|      90.0|        1.0|\n",
            "|          Vaporfly 3|   5.0|20695.0|        1841855.0|(2,[1],[1.0])|      89.0|       10.0|\n",
            "|Air Jordan 1 Elev...|   1.0|18395.0|        1784315.0|(2,[1],[1.0])|      97.0|        6.0|\n",
            "|   Air Max 97 Futura|   2.0|17495.0|        1679520.0|(2,[1],[1.0])|      96.0|        3.0|\n",
            "|        Invincible 3|  10.0|16995.0|        1631520.0|(2,[1],[1.0])|      96.0|        8.0|\n",
            "|        Invincible 3|  10.0|16995.0|        1631520.0|(2,[1],[1.0])|      96.0|        7.0|\n",
            "|          Vaporfly 3|   5.0|20695.0|        1552125.0|(2,[1],[1.0])|      75.0|       10.0|\n",
            "|          Vaporfly 3|   5.0|19657.0|        1533246.0|(2,[1],[1.0])|      78.0|       16.0|\n",
            "|  Air Jordan 3 Retro|   3.0|16595.0|        1526740.0|(2,[1],[1.0])|      92.0|       16.0|\n",
            "|           Vomero 17|   2.0|14995.0|        1439520.0|(2,[1],[1.0])|      96.0|       10.0|\n",
            "|Air VaporMax 2023...|   4.0|19295.0|        1427830.0|(2,[1],[1.0])|      74.0|       10.0|\n",
            "|        Air Max 1 LX|   2.0|14995.0|        1424525.0|(2,[1],[1.0])|      95.0|        9.0|\n",
            "|        InfinityRN 4|   8.0|14995.0|        1409530.0|(2,[1],[1.0])|      94.0|        8.0|\n",
            "|        Invincible 3|  10.0|16147.0|        1404789.0|(2,[1],[1.0])|      87.0|        8.0|\n",
            "|Air Adjust Force ...|   2.0|15197.0|        1382927.0|(2,[1],[1.0])|      91.0|        1.0|\n",
            "|        InfinityRN 4|   8.0|14995.0|        1364545.0|(2,[1],[1.0])|      91.0|        9.0|\n",
            "|         Air Max 270|   1.0|14995.0|        1349550.0|(2,[1],[1.0])|      90.0|       10.0|\n",
            "+--------------------+------+-------+-----------------+-------------+----------+-----------+\n",
            "only showing top 20 rows\n",
            "\n",
            "14754.076923076924\n",
            "8\n"
          ]
        }
      ]
    },
    {
      "cell_type": "markdown",
      "source": [
        "**In the provided clusters:**\n",
        "\n",
        "**Cluster 1:** Shows higher-priced shoes with moderate to high units sold, indicating demand for premium products.\n",
        "\n",
        "**Cluster 2:** Exhibits a mix of mid to high-priced shoes with varied colors and sizes, suggesting diversity in consumer preferences.\n",
        "\n",
        "**Cluster 3:** Displays higher-priced shoes with comparatively lower units sold, indicating niche or specialized products.\n",
        "\n",
        "Analyzing these clusters can help in tailoring marketing strategies, optimizing inventory, and identifying trends. For instance, Cluster 1 may be targeted towards high-end consumers, while Cluster 2 might represent products appealing to a broader audience."
      ],
      "metadata": {
        "id": "8FGjR9rizln4"
      }
    },
    {
      "cell_type": "code",
      "source": [
        "import pandas as pd\n",
        "\n",
        "# Convert PySpark DataFrame to Pandas DataFrame\n",
        "pandas_df = All_Shoes_new.toPandas()\n",
        "\n",
        "# Export Pandas DataFrame to a CSV file\n",
        "pandas_df.to_csv('All_Shoes_new.csv', index=False)"
      ],
      "metadata": {
        "id": "mhQaDLMUfY1_"
      },
      "execution_count": 24,
      "outputs": []
    },
    {
      "cell_type": "code",
      "source": [
        "#Reading the data\n",
        "shoesdata=session.read.csv('All_Shoes_new.csv', header=True, inferSchema=True)\n",
        "\n",
        "#Reading the stream of data by specifying the schema and directory #read continuous data\n",
        "shoesdata_stream=session.readStream.schema(shoesdata.schema).csv('shoes_stream/')\n",
        "\n",
        "#Writing the stream of data to a table\n",
        "#The output mode is append which means that the data will be added always to existing table\n",
        "shoesquery=shoesdata_stream.filter(\"Name != 'Name'\").writeStream.queryName(\"shoestable\").format(\"memory\").outputMode(\"append\").start()"
      ],
      "metadata": {
        "id": "4oej6e_ggpVT"
      },
      "execution_count": 25,
      "outputs": []
    },
    {
      "cell_type": "code",
      "source": [
        "#Copy the Nike_new.csv file to the streaming folder #shutl lib will help to cp file from one place to another.\n",
        "import shutil\n",
        "src=r\"All_Shoes_new.csv\"\n",
        "dest = r\"shoes_stream\"\n",
        "shutil.copy(src,dest)\n"
      ],
      "metadata": {
        "colab": {
          "base_uri": "https://localhost:8080/",
          "height": 36
        },
        "id": "6cdGd1qxhaFa",
        "outputId": "bd43405d-a77a-4d9e-8018-bc3ca36a5419"
      },
      "execution_count": 26,
      "outputs": [
        {
          "output_type": "execute_result",
          "data": {
            "text/plain": [
              "'shoes_stream/All_Shoes_new.csv'"
            ],
            "application/vnd.google.colaboratory.intrinsic+json": {
              "type": "string"
            }
          },
          "metadata": {},
          "execution_count": 26
        }
      ]
    },
    {
      "cell_type": "code",
      "source": [
        "session.sql(\"select * from shoestable limit 5\").show()"
      ],
      "metadata": {
        "colab": {
          "base_uri": "https://localhost:8080/"
        },
        "id": "1iqScTtzhph5",
        "outputId": "1ea19e82-217e-4ac3-b680-8e45c6aa46c9"
      },
      "execution_count": 27,
      "outputs": [
        {
          "output_type": "stream",
          "name": "stdout",
          "text": [
            "+--------------------+--------+------+-------+--------------------+-----------+--------------------+------------+------+------+--------------------+-------+----------+-----------------+--------+\n",
            "|                Name|Category|Colors|  Price|               Sizes|Count_Sizes|          Color_Name|product_Code|Review|Rating|            Features|Comfort|Units_sold|Revenue_Generated|Discount|\n",
            "+--------------------+--------+------+-------+--------------------+-----------+--------------------+------------+------+------+--------------------+-------+----------+-----------------+--------+\n",
            "|Phantom Luna Elit...|  Unisex|     1|26795.0|['4.5', '5', '5.5...|         12|Fuchsia Dream/Bar...|  FQ8033-500|   0.0|   0.0|                    |   NULL|        88|        2357960.0|       0|\n",
            "| Phantom GX Elite SE|  Unisex|     1|23795.0|               ['7']|          1|Fuchsia Dream/Bar...|  FD0565-500|   0.0|   0.0|                    |   NULL|        94|        2236730.0|       1|\n",
            "|          Alphafly 2|   Women|     4|21657.0|                NULL|         16|Black/Sea Coral/W...|  DN3559-001| 146.0|   4.3|                    |   NULL|        99|        2144043.0|       9|\n",
            "|          Alphafly 2|   Women|     4|21657.0|                NULL|         16|White/Clear Jade/...|  DN3559-100| 146.0|   4.3|                    |   NULL|        99|        2144043.0|       8|\n",
            "|Mercurial Vapor 1...|  Unisex|     4|21995.0|                NULL|         16|White/Coconut Mil...|  DJ4978-101|  37.0|   4.7|LOOK FAST, FEEL F...|   NULL|        97|        2133515.0|       3|\n",
            "+--------------------+--------+------+-------+--------------------+-----------+--------------------+------------+------+------+--------------------+-------+----------+-----------------+--------+\n",
            "\n"
          ]
        }
      ]
    },
    {
      "cell_type": "markdown",
      "source": [
        "# **Business Objective 3:** How does implementing streaming analytics in our shoe store affect profitability and fame? Can real-time insights optimize inventory, pricing, and marketing to drive profitability and enhance customer satisfaction, thereby boosting the store's reputation?\n",
        "\n",
        "Implementing streaming in the shoe store significantly impacts both profitability and fame. Real-time insights enable the store to optimize its inventory, ensuring that popular products are readily available while minimizing excess stock. This agility enhances profitability by reducing inventory costs and maximizing sales opportunities. Additionally, dynamic pricing strategies based on real-time data analysis help to capture maximum value from each sale, further boosting profitability. Moreover, by leveraging real-time data to tailor marketing campaigns and enhance customer experiences, the store gains fame and recognition in the market. The ability to offer personalized recommendations and timely promotions increases customer satisfaction and loyalty, ultimately elevating the store's reputation and fame within the industry. Overall, streaming drives profitability through efficient operations and enhances fame by delivering exceptional customer experiences."
      ],
      "metadata": {
        "id": "jEp58Vbh1ZgR"
      }
    },
    {
      "cell_type": "code",
      "source": [
        "import time\n",
        "for i in range (10):\n",
        "    session.sql(\"SELECT Category, sum(Units_Sold) as Total_Units_Sold, sum(Revenue_Generated) as Total_Revenue_Generated, sum(Discount) as \\\n",
        "     Total_Discount_Given FROM shoestable GROUP BY Category\").show()\n",
        "    newfile=\"shoes_stream/Shoes\" + str(i) +  \".csv\"\n",
        "    shutil.copy(src,newfile)\n",
        "    time.sleep(5)"
      ],
      "metadata": {
        "colab": {
          "base_uri": "https://localhost:8080/"
        },
        "id": "KpIDJkk0h0Nc",
        "outputId": "c048bfd0-18c7-4bbe-8a31-afd9f7983ce3"
      },
      "execution_count": 28,
      "outputs": [
        {
          "output_type": "stream",
          "name": "stdout",
          "text": [
            "+--------+----------------+-----------------------+--------------------+\n",
            "|Category|Total_Units_Sold|Total_Revenue_Generated|Total_Discount_Given|\n",
            "+--------+----------------+-----------------------+--------------------+\n",
            "|     Men|           12908|           1.99562794E8|                 755|\n",
            "|   Women|            7932|            1.2076013E8|                 452|\n",
            "|  Unisex|            3688|            6.4249602E7|                 196|\n",
            "+--------+----------------+-----------------------+--------------------+\n",
            "\n",
            "+--------+----------------+-----------------------+--------------------+\n",
            "|Category|Total_Units_Sold|Total_Revenue_Generated|Total_Discount_Given|\n",
            "+--------+----------------+-----------------------+--------------------+\n",
            "|     Men|           25816|           3.99125588E8|                1510|\n",
            "|   Women|           15864|            2.4152026E8|                 904|\n",
            "|  Unisex|            7376|           1.28499204E8|                 392|\n",
            "+--------+----------------+-----------------------+--------------------+\n",
            "\n",
            "+--------+----------------+-----------------------+--------------------+\n",
            "|Category|Total_Units_Sold|Total_Revenue_Generated|Total_Discount_Given|\n",
            "+--------+----------------+-----------------------+--------------------+\n",
            "|     Men|           38724|           5.98688382E8|                2265|\n",
            "|   Women|           23796|            3.6228039E8|                1356|\n",
            "|  Unisex|           11064|           1.92748806E8|                 588|\n",
            "+--------+----------------+-----------------------+--------------------+\n",
            "\n",
            "+--------+----------------+-----------------------+--------------------+\n",
            "|Category|Total_Units_Sold|Total_Revenue_Generated|Total_Discount_Given|\n",
            "+--------+----------------+-----------------------+--------------------+\n",
            "|     Men|           51632|           7.98251176E8|                3020|\n",
            "|   Women|           31728|            4.8304052E8|                1808|\n",
            "|  Unisex|           14752|           2.56998408E8|                 784|\n",
            "+--------+----------------+-----------------------+--------------------+\n",
            "\n",
            "+--------+----------------+-----------------------+--------------------+\n",
            "|Category|Total_Units_Sold|Total_Revenue_Generated|Total_Discount_Given|\n",
            "+--------+----------------+-----------------------+--------------------+\n",
            "|     Men|           64540|            9.9781397E8|                3775|\n",
            "|   Women|           39660|            6.0380065E8|                2260|\n",
            "|  Unisex|           18440|            3.2124801E8|                 980|\n",
            "+--------+----------------+-----------------------+--------------------+\n",
            "\n",
            "+--------+----------------+-----------------------+--------------------+\n",
            "|Category|Total_Units_Sold|Total_Revenue_Generated|Total_Discount_Given|\n",
            "+--------+----------------+-----------------------+--------------------+\n",
            "|     Men|           77448|          1.197376764E9|                4530|\n",
            "|   Women|           47592|            7.2456078E8|                2712|\n",
            "|  Unisex|           22128|           3.85497612E8|                1176|\n",
            "+--------+----------------+-----------------------+--------------------+\n",
            "\n",
            "+--------+----------------+-----------------------+--------------------+\n",
            "|Category|Total_Units_Sold|Total_Revenue_Generated|Total_Discount_Given|\n",
            "+--------+----------------+-----------------------+--------------------+\n",
            "|     Men|           90356|          1.396939558E9|                5285|\n",
            "|   Women|           55524|            8.4532091E8|                3164|\n",
            "|  Unisex|           25816|           4.49747214E8|                1372|\n",
            "+--------+----------------+-----------------------+--------------------+\n",
            "\n",
            "+--------+----------------+-----------------------+--------------------+\n",
            "|Category|Total_Units_Sold|Total_Revenue_Generated|Total_Discount_Given|\n",
            "+--------+----------------+-----------------------+--------------------+\n",
            "|     Men|          103264|          1.596502352E9|                6040|\n",
            "|   Women|           63456|            9.6608104E8|                3616|\n",
            "|  Unisex|           29504|           5.13996816E8|                1568|\n",
            "+--------+----------------+-----------------------+--------------------+\n",
            "\n",
            "+--------+----------------+-----------------------+--------------------+\n",
            "|Category|Total_Units_Sold|Total_Revenue_Generated|Total_Discount_Given|\n",
            "+--------+----------------+-----------------------+--------------------+\n",
            "|     Men|          116172|          1.796065146E9|                6795|\n",
            "|   Women|           71388|           1.08684117E9|                4068|\n",
            "|  Unisex|           33192|           5.78246418E8|                1764|\n",
            "+--------+----------------+-----------------------+--------------------+\n",
            "\n",
            "+--------+----------------+-----------------------+--------------------+\n",
            "|Category|Total_Units_Sold|Total_Revenue_Generated|Total_Discount_Given|\n",
            "+--------+----------------+-----------------------+--------------------+\n",
            "|     Men|          129080|           1.99562794E9|                7550|\n",
            "|   Women|           79320|            1.2076013E9|                4520|\n",
            "|  Unisex|           36880|            6.4249602E8|                1960|\n",
            "+--------+----------------+-----------------------+--------------------+\n",
            "\n"
          ]
        }
      ]
    },
    {
      "cell_type": "markdown",
      "source": [
        "# **Business Objective 4:** How are different shoe models related to each other based on factors like color availability and category similarity, and how can these relationships inform personalized product recommendations and marketing strategies?\n",
        "\n",
        "\n",
        "By analyzing the graph of shoe relationships, the store can identify similar products based on attributes like colors available, category, and other features. This allows the store to offer personalized recommendations to customers, increasing the likelihood of sales and enhancing customer satisfaction.\n",
        "\n",
        "Understanding the relationships between products can also inform the development of engaging customer experiences, such as curated collections, thematic product displays, and interactive online features. By creating compelling narratives around product relationships, the store can captivate customers and foster brand loyalty."
      ],
      "metadata": {
        "id": "X8DNR1xT2xL_"
      }
    },
    {
      "cell_type": "code",
      "source": [
        "!apt-get install openjdk-11-jdk-headless -qq > /dev/null\n",
        "!wget -q https://bitbucket.org/habedi/datasets/raw/b6769c4664e7ff68b001e2f43bc517888cbe3642/spark/spark-3.0.2-bin-hadoop2.7.tgz\n",
        "!tar xf spark-3.0.2-bin-hadoop2.7.tgz\n",
        "!rm -rf spark-3.0.2-bin-hadoop2.7.tgz*\n",
        "!pip -q install findspark pyspark graphframes"
      ],
      "metadata": {
        "id": "z2mB9erspJZb"
      },
      "execution_count": 1,
      "outputs": []
    },
    {
      "cell_type": "code",
      "source": [
        "import os\n",
        "os.environ[\"PYSPARK_DRIVER_PYTHON\"] = \"jupyter\"\n",
        "os.environ[\"PYSPARK_DRIVER_PYTHON_OPTS\"] = \"notebook\"\n",
        "os.environ[\"PYSPARK_SUBMIT_ARGS\"] = \"--packages graphframes:graphframes:0.8.1-spark3.0-s_2.12 pyspark-shell\""
      ],
      "metadata": {
        "id": "EBJxXznkpMl7"
      },
      "execution_count": 2,
      "outputs": []
    },
    {
      "cell_type": "code",
      "source": [
        "from graphframes import *\n",
        "from pyspark import *\n",
        "from pyspark.sql import *\n",
        "spark = SparkSession.builder.appName('function').getOrCreate()"
      ],
      "metadata": {
        "id": "-77UbaZdqX_v"
      },
      "execution_count": 3,
      "outputs": []
    },
    {
      "cell_type": "code",
      "source": [
        "vertices = spark.read.option('header', 'true').csv('Shoes_Nodes.csv')\n",
        "edges = spark.read.option('header', 'true').csv('Shoes_Edges.csv')"
      ],
      "metadata": {
        "id": "pzWNoZdvqbtE"
      },
      "execution_count": 4,
      "outputs": []
    },
    {
      "cell_type": "code",
      "source": [
        "vertices.show()\n",
        "edges.show()"
      ],
      "metadata": {
        "colab": {
          "base_uri": "https://localhost:8080/"
        },
        "id": "AU9gqXlNWTYN",
        "outputId": "e2816fb0-7eb9-4f8f-9557-4b97f2cef1b6"
      },
      "execution_count": 5,
      "outputs": [
        {
          "output_type": "stream",
          "name": "stdout",
          "text": [
            "+--------------------+--------------------+--------------------+--------------------+------------+--------------------+--------------------+--------------------+------------+------+------+--------+-------+\n",
            "|                  id|                Name|            Category|              Colors|       Price|               Sizes|         Count_Sizes|          Color_Name|product_Code|Review|Rating|Features|Comfort|\n",
            "+--------------------+--------------------+--------------------+--------------------+------------+--------------------+--------------------+--------------------+------------+------+------+--------+-------+\n",
            "|                   1|           Air Max 1|                 Men|                   5|   12 795.00|['6', '6.5', '7',...|                  17|White/Photon Dust...|  FD9082-103|    88|   4.8|        |   NULL|\n",
            "|Meet the leader o...| the Air Max 1 bl...| wavy mudguard an...| this classic ico...|        NULL|                NULL|                NULL|                NULL|        NULL|  NULL|  NULL|    NULL|   NULL|\n",
            "|            Benefits|                NULL|                NULL|                NULL|        NULL|                NULL|                NULL|                NULL|        NULL|  NULL|  NULL|    NULL|   NULL|\n",
            "|Plush and comfort...| the Max Air cush...|                NULL|                NULL|        NULL|                NULL|                NULL|                NULL|        NULL|  NULL|  NULL|    NULL|   NULL|\n",
            "|The Waffle outsol...|                NULL|                NULL|                NULL|        NULL|                NULL|                NULL|                NULL|        NULL|  NULL|  NULL|    NULL|   NULL|\n",
            "|Colour Shown: Whi...|                NULL|                NULL|                NULL|        NULL|                NULL|                NULL|                NULL|        NULL|  NULL|  NULL|    NULL|   NULL|\n",
            "|   Style: FD9082-103|                NULL|                NULL|                NULL|        NULL|                NULL|                NULL|                NULL|        NULL|  NULL|  NULL|    NULL|   NULL|\n",
            "|Country/Region of...|                NULL|                NULL|                NULL|        NULL|                NULL|                NULL|                NULL|        NULL|  NULL|  NULL|    NULL|   NULL|\n",
            "|           Air Max 1|                NULL|                NULL|                NULL|        NULL|                NULL|                NULL|                NULL|        NULL|  NULL|  NULL|    NULL|   NULL|\n",
            "|                Sure| Air Max 1 starte...| but you can't ke...| this runner with...| to this day| are celebrated y...|Plush and comfort...|                NULL|        NULL|  NULL|  NULL|    NULL|   NULL|\n",
            "|The Waffle outsol...|                NULL|                NULL|                NULL|        NULL|                NULL|                NULL|                NULL|        NULL|  NULL|  NULL|    NULL|   NULL|\n",
            "|Colour Shown: Whi...|                NULL|                NULL|                NULL|        NULL|                NULL|                NULL|                NULL|        NULL|  NULL|  NULL|    NULL|   NULL|\n",
            "|   Style: FD9082-103|                NULL|                NULL|                NULL|        NULL|                NULL|                NULL|                NULL|        NULL|  NULL|  NULL|    NULL|   NULL|\n",
            "|Country/Region of...|                NULL|                NULL|                NULL|        NULL|                NULL|                NULL|                NULL|        NULL|  NULL|  NULL|    NULL|   NULL|\n",
            "|                   2|          Air Max 90|                 Men|                   1|   11 895.00|['7', '7.5', '8',...|                  13|Anthracite/Black/...|  FB9658-001|     3|   4.7|        |   NULL|\n",
            "|Lace up and feel ...| revolutionised t...|  its Waffle outsole| visible Nike Air...|        NULL|                NULL|                NULL|                NULL|        NULL|  NULL|  NULL|    NULL|   NULL|\n",
            "|            Benefits|                NULL|                NULL|                NULL|        NULL|                NULL|                NULL|                NULL|        NULL|  NULL|  NULL|    NULL|   NULL|\n",
            "|The textile upper...|                NULL|                NULL|                NULL|        NULL|                NULL|                NULL|                NULL|        NULL|  NULL|  NULL|    NULL|   NULL|\n",
            "|Originally design...| its foam midsole...|                NULL|                NULL|        NULL|                NULL|                NULL|                NULL|        NULL|  NULL|  NULL|    NULL|   NULL|\n",
            "|Rubber Waffle out...|                NULL|                NULL|                NULL|        NULL|                NULL|                NULL|                NULL|        NULL|  NULL|  NULL|    NULL|   NULL|\n",
            "+--------------------+--------------------+--------------------+--------------------+------------+--------------------+--------------------+--------------------+------------+------+------+--------+-------+\n",
            "only showing top 20 rows\n",
            "\n",
            "+---+---+------------------+\n",
            "|src|dst|          relation|\n",
            "+---+---+------------------+\n",
            "|  4|  5|similar_high_rated|\n",
            "|  5| 11|similar_high_rated|\n",
            "| 11| 18|similar_high_rated|\n",
            "| 18| 25|similar_high_rated|\n",
            "| 25| 28|similar_high_rated|\n",
            "| 28| 57|similar_high_rated|\n",
            "| 57| 62|similar_high_rated|\n",
            "| 62| 82|similar_high_rated|\n",
            "| 82| 97|similar_high_rated|\n",
            "| 97|134|similar_high_rated|\n",
            "|134|  5|similar_high_rated|\n",
            "|151| 11|similar_high_rated|\n",
            "|167| 18|similar_high_rated|\n",
            "|173| 25|similar_high_rated|\n",
            "|178| 28|similar_high_rated|\n",
            "|184| 57|similar_high_rated|\n",
            "|187| 62|similar_high_rated|\n",
            "|191| 82|similar_high_rated|\n",
            "|194| 97|similar_high_rated|\n",
            "|198|134|similar_high_rated|\n",
            "+---+---+------------------+\n",
            "only showing top 20 rows\n",
            "\n"
          ]
        }
      ]
    },
    {
      "cell_type": "code",
      "source": [
        "mygraph = GraphFrame(vertices, edges)"
      ],
      "metadata": {
        "colab": {
          "base_uri": "https://localhost:8080/"
        },
        "id": "vvySfhW-q7go",
        "outputId": "6e2269b2-e2db-4650-cc0a-635356fc0f78"
      },
      "execution_count": 6,
      "outputs": [
        {
          "output_type": "stream",
          "name": "stderr",
          "text": [
            "/usr/local/lib/python3.10/dist-packages/pyspark/sql/dataframe.py:168: UserWarning: DataFrame.sql_ctx is an internal property, and will be removed in future releases. Use DataFrame.sparkSession instead.\n",
            "  warnings.warn(\n"
          ]
        }
      ]
    },
    {
      "cell_type": "code",
      "source": [
        "mygraph.degrees.show(4)"
      ],
      "metadata": {
        "id": "E_KK1vl7rMBD",
        "colab": {
          "base_uri": "https://localhost:8080/"
        },
        "outputId": "ab09ab36-26a5-4930-a2ae-9b432fbfc94a"
      },
      "execution_count": 7,
      "outputs": [
        {
          "output_type": "stream",
          "name": "stderr",
          "text": [
            "/usr/local/lib/python3.10/dist-packages/pyspark/sql/dataframe.py:147: UserWarning: DataFrame constructor is internal. Do not directly use it.\n",
            "  warnings.warn(\"DataFrame constructor is internal. Do not directly use it.\")\n"
          ]
        },
        {
          "output_type": "stream",
          "name": "stdout",
          "text": [
            "+---+------+\n",
            "| id|degree|\n",
            "+---+------+\n",
            "| 51|     2|\n",
            "|307|     2|\n",
            "|205|     2|\n",
            "| 54|     4|\n",
            "+---+------+\n",
            "only showing top 4 rows\n",
            "\n"
          ]
        }
      ]
    },
    {
      "cell_type": "markdown",
      "source": [],
      "metadata": {
        "id": "GcK22pe8nqUv"
      }
    },
    {
      "cell_type": "code",
      "source": [
        "result=mygraph.filterVertices(\"Name=='Air Jordan 1 Mid' and Category=='Unisex'\");\n",
        "result.vertices.show()"
      ],
      "metadata": {
        "id": "tiueimQtrWdR",
        "colab": {
          "base_uri": "https://localhost:8080/"
        },
        "outputId": "b7fe17c2-45a0-48b1-8e2f-3cc0dc71149e"
      },
      "execution_count": 8,
      "outputs": [
        {
          "output_type": "stream",
          "name": "stdout",
          "text": [
            "+---+----------------+--------+------+---------+--------------------+-----------+-----------------+------------+------+------+--------------------+-------+\n",
            "| id|            Name|Category|Colors|    Price|               Sizes|Count_Sizes|       Color_Name|product_Code|Review|Rating|            Features|Comfort|\n",
            "+---+----------------+--------+------+---------+--------------------+-----------+-----------------+------------+------+------+--------------------+-------+\n",
            "| 37|Air Jordan 1 Mid|  Unisex|     1|11 495.00|['8', '8.5', '9',...|          9|White/White/White|  554724-136|   995|   4.8|FRESH COLOUR, FAM...|   NULL|\n",
            "+---+----------------+--------+------+---------+--------------------+-----------+-----------------+------------+------+------+--------------------+-------+\n",
            "\n"
          ]
        }
      ]
    },
    {
      "cell_type": "code",
      "source": [
        "result3=mygraph.filterEdges(\"relation='same_category_unisex'\");\n",
        "result3.edges.show()"
      ],
      "metadata": {
        "id": "NGU9CXmbss-F",
        "colab": {
          "base_uri": "https://localhost:8080/"
        },
        "outputId": "1269e835-babc-447b-a8c7-a94cece2c677"
      },
      "execution_count": 9,
      "outputs": [
        {
          "output_type": "stream",
          "name": "stdout",
          "text": [
            "+---+---+--------------------+\n",
            "|src|dst|            relation|\n",
            "+---+---+--------------------+\n",
            "| 37|255|same_category_unisex|\n",
            "| 47|276|same_category_unisex|\n",
            "| 54|293|same_category_unisex|\n",
            "| 65|300|same_category_unisex|\n",
            "| 75|307|same_category_unisex|\n",
            "| 90|321|same_category_unisex|\n",
            "|138|322|same_category_unisex|\n",
            "|139|338|same_category_unisex|\n",
            "|155| 37|same_category_unisex|\n",
            "|156| 47|same_category_unisex|\n",
            "|164| 54|same_category_unisex|\n",
            "|171| 65|same_category_unisex|\n",
            "|175| 75|same_category_unisex|\n",
            "|182| 90|same_category_unisex|\n",
            "|255|138|same_category_unisex|\n",
            "|276|139|same_category_unisex|\n",
            "|293|155|same_category_unisex|\n",
            "|300|156|same_category_unisex|\n",
            "|307|164|same_category_unisex|\n",
            "|321|171|same_category_unisex|\n",
            "+---+---+--------------------+\n",
            "only showing top 20 rows\n",
            "\n"
          ]
        }
      ]
    },
    {
      "cell_type": "code",
      "source": [
        "mygraph.triangleCount().show()"
      ],
      "metadata": {
        "id": "0VQKa5RTtP5E"
      },
      "execution_count": null,
      "outputs": []
    },
    {
      "cell_type": "code",
      "source": [
        "import networkx as nx\n",
        "import matplotlib.pyplot as plt\n",
        "# the function will plot the source and destination nodes and connect them by meand of undirected line\n",
        "def plot_undirected_graph(edge_list):\n",
        "    plt.figure(figsize=(9,9))\n",
        "    gplot=nx.Graph()\n",
        "    for row in edge_list.select(\"src\", \"dst\").take(1000):\n",
        "        gplot.add_edge(row[\"src\"], row[\"dst\"])\n",
        "    nx.draw(gplot, with_labels=True, font_weight=\"bold\", node_size=3500)\n",
        "plot_undirected_graph(mygraph.edges)"
      ],
      "metadata": {
        "id": "A2jPZW-gtREh"
      },
      "execution_count": null,
      "outputs": []
    },
    {
      "cell_type": "code",
      "source": [],
      "metadata": {
        "id": "9sw3NpSPQx42"
      },
      "execution_count": null,
      "outputs": []
    }
  ]
}